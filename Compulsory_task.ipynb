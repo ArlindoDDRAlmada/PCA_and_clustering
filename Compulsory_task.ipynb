{
 "cells": [
  {
   "cell_type": "markdown",
   "metadata": {},
   "source": [
    "# Unsupervised learning - PCA and clustering "
   ]
  },
  {
   "cell_type": "markdown",
   "metadata": {},
   "source": [
    "## Exploring the data"
   ]
  },
  {
   "cell_type": "code",
   "execution_count": 10,
   "metadata": {},
   "outputs": [
    {
     "data": {
      "text/html": [
       "<div>\n",
       "<style scoped>\n",
       "    .dataframe tbody tr th:only-of-type {\n",
       "        vertical-align: middle;\n",
       "    }\n",
       "\n",
       "    .dataframe tbody tr th {\n",
       "        vertical-align: top;\n",
       "    }\n",
       "\n",
       "    .dataframe thead th {\n",
       "        text-align: right;\n",
       "    }\n",
       "</style>\n",
       "<table border=\"1\" class=\"dataframe\">\n",
       "  <thead>\n",
       "    <tr style=\"text-align: right;\">\n",
       "      <th></th>\n",
       "      <th>City</th>\n",
       "      <th>Murder</th>\n",
       "      <th>Assault</th>\n",
       "      <th>UrbanPop</th>\n",
       "      <th>Rape</th>\n",
       "    </tr>\n",
       "  </thead>\n",
       "  <tbody>\n",
       "    <tr>\n",
       "      <th>0</th>\n",
       "      <td>Alabama</td>\n",
       "      <td>13.20</td>\n",
       "      <td>236</td>\n",
       "      <td>58</td>\n",
       "      <td>21.20</td>\n",
       "    </tr>\n",
       "    <tr>\n",
       "      <th>1</th>\n",
       "      <td>Alaska</td>\n",
       "      <td>10.00</td>\n",
       "      <td>263</td>\n",
       "      <td>48</td>\n",
       "      <td>44.50</td>\n",
       "    </tr>\n",
       "    <tr>\n",
       "      <th>2</th>\n",
       "      <td>Arizona</td>\n",
       "      <td>8.10</td>\n",
       "      <td>294</td>\n",
       "      <td>80</td>\n",
       "      <td>31.00</td>\n",
       "    </tr>\n",
       "    <tr>\n",
       "      <th>3</th>\n",
       "      <td>Arkansas</td>\n",
       "      <td>8.80</td>\n",
       "      <td>190</td>\n",
       "      <td>50</td>\n",
       "      <td>19.50</td>\n",
       "    </tr>\n",
       "    <tr>\n",
       "      <th>4</th>\n",
       "      <td>California</td>\n",
       "      <td>9.00</td>\n",
       "      <td>276</td>\n",
       "      <td>91</td>\n",
       "      <td>40.60</td>\n",
       "    </tr>\n",
       "  </tbody>\n",
       "</table>\n",
       "</div>"
      ],
      "text/plain": [
       "         City  Murder  Assault  UrbanPop  Rape\n",
       "0     Alabama   13.20      236        58 21.20\n",
       "1      Alaska   10.00      263        48 44.50\n",
       "2     Arizona    8.10      294        80 31.00\n",
       "3    Arkansas    8.80      190        50 19.50\n",
       "4  California    9.00      276        91 40.60"
      ]
     },
     "execution_count": 10,
     "metadata": {},
     "output_type": "execute_result"
    }
   ],
   "source": [
    "import pandas as pd\n",
    "import numpy as np\n",
    "\n",
    "import matplotlib.pyplot as plt\n",
    "%matplotlib inline\n",
    "\n",
    "usArrests_df = pd.read_csv(\"UsArrests.csv\")\n",
    "usArrests_df.head()"
   ]
  },
  {
   "cell_type": "code",
   "execution_count": 11,
   "metadata": {},
   "outputs": [
    {
     "name": "stdout",
     "output_type": "stream",
     "text": [
      "Number of cases: 50 Number of features: 5\n"
     ]
    }
   ],
   "source": [
    "print('Number of cases: {} Number of features: {}'.format(usArrests_df.shape[0],usArrests_df.shape[1]))"
   ]
  },
  {
   "cell_type": "markdown",
   "metadata": {},
   "source": [
    "We then need to summarise the statistical properties of the columns:"
   ]
  },
  {
   "cell_type": "code",
   "execution_count": 12,
   "metadata": {},
   "outputs": [
    {
     "data": {
      "text/html": [
       "<div>\n",
       "<style scoped>\n",
       "    .dataframe tbody tr th:only-of-type {\n",
       "        vertical-align: middle;\n",
       "    }\n",
       "\n",
       "    .dataframe tbody tr th {\n",
       "        vertical-align: top;\n",
       "    }\n",
       "\n",
       "    .dataframe thead th {\n",
       "        text-align: right;\n",
       "    }\n",
       "</style>\n",
       "<table border=\"1\" class=\"dataframe\">\n",
       "  <thead>\n",
       "    <tr style=\"text-align: right;\">\n",
       "      <th></th>\n",
       "      <th>mean</th>\n",
       "      <th>std</th>\n",
       "      <th>min</th>\n",
       "      <th>max</th>\n",
       "    </tr>\n",
       "  </thead>\n",
       "  <tbody>\n",
       "    <tr>\n",
       "      <th>Murder</th>\n",
       "      <td>7.79</td>\n",
       "      <td>4.36</td>\n",
       "      <td>0.80</td>\n",
       "      <td>17.40</td>\n",
       "    </tr>\n",
       "    <tr>\n",
       "      <th>Assault</th>\n",
       "      <td>170.76</td>\n",
       "      <td>83.34</td>\n",
       "      <td>45.00</td>\n",
       "      <td>337.00</td>\n",
       "    </tr>\n",
       "    <tr>\n",
       "      <th>UrbanPop</th>\n",
       "      <td>65.54</td>\n",
       "      <td>14.47</td>\n",
       "      <td>32.00</td>\n",
       "      <td>91.00</td>\n",
       "    </tr>\n",
       "    <tr>\n",
       "      <th>Rape</th>\n",
       "      <td>21.23</td>\n",
       "      <td>9.37</td>\n",
       "      <td>7.30</td>\n",
       "      <td>46.00</td>\n",
       "    </tr>\n",
       "  </tbody>\n",
       "</table>\n",
       "</div>"
      ],
      "text/plain": [
       "           mean   std   min    max\n",
       "Murder     7.79  4.36  0.80  17.40\n",
       "Assault  170.76 83.34 45.00 337.00\n",
       "UrbanPop  65.54 14.47 32.00  91.00\n",
       "Rape      21.23  9.37  7.30  46.00"
      ]
     },
     "execution_count": 12,
     "metadata": {},
     "output_type": "execute_result"
    }
   ],
   "source": [
    "#To set the decimal precision:\n",
    "pd.set_option('display.float_format', lambda x: '%.2f' % x) \n",
    "\n",
    "#The describe function give us insight into the statistical properties of the columns\n",
    "stats = usArrests_df.describe()\n",
    "selected_stats = stats.loc[[\"mean\",\"std\",\"min\",\"max\"]].transpose() #select relevant rows\n",
    "selected_stats"
   ]
  },
  {
   "cell_type": "markdown",
   "metadata": {},
   "source": [
    "We also need to determine if we have any missing values, and which features these occur for:"
   ]
  },
  {
   "cell_type": "code",
   "execution_count": 13,
   "metadata": {},
   "outputs": [
    {
     "data": {
      "text/html": [
       "<div>\n",
       "<style scoped>\n",
       "    .dataframe tbody tr th:only-of-type {\n",
       "        vertical-align: middle;\n",
       "    }\n",
       "\n",
       "    .dataframe tbody tr th {\n",
       "        vertical-align: top;\n",
       "    }\n",
       "\n",
       "    .dataframe thead th {\n",
       "        text-align: right;\n",
       "    }\n",
       "</style>\n",
       "<table border=\"1\" class=\"dataframe\">\n",
       "  <thead>\n",
       "    <tr style=\"text-align: right;\">\n",
       "      <th></th>\n",
       "      <th>missing</th>\n",
       "    </tr>\n",
       "  </thead>\n",
       "  <tbody>\n",
       "    <tr>\n",
       "      <th>City</th>\n",
       "      <td>0</td>\n",
       "    </tr>\n",
       "    <tr>\n",
       "      <th>Murder</th>\n",
       "      <td>0</td>\n",
       "    </tr>\n",
       "    <tr>\n",
       "      <th>Assault</th>\n",
       "      <td>0</td>\n",
       "    </tr>\n",
       "    <tr>\n",
       "      <th>UrbanPop</th>\n",
       "      <td>0</td>\n",
       "    </tr>\n",
       "    <tr>\n",
       "      <th>Rape</th>\n",
       "      <td>0</td>\n",
       "    </tr>\n",
       "  </tbody>\n",
       "</table>\n",
       "</div>"
      ],
      "text/plain": [
       "          missing\n",
       "City            0\n",
       "Murder          0\n",
       "Assault         0\n",
       "UrbanPop        0\n",
       "Rape            0"
      ]
     },
     "execution_count": 13,
     "metadata": {},
     "output_type": "execute_result"
    }
   ],
   "source": [
    "# Count missing values\n",
    "missing = usArrests_df.isnull().sum()\n",
    "relevant_missing = pd.DataFrame(missing, columns=[\"missing\"])\n",
    "relevant_missing"
   ]
  },
  {
   "cell_type": "markdown",
   "metadata": {},
   "source": [
    "It is often useful to determine the type of each variable:"
   ]
  },
  {
   "cell_type": "code",
   "execution_count": 14,
   "metadata": {},
   "outputs": [
    {
     "name": "stdout",
     "output_type": "stream",
     "text": [
      "<class 'pandas.core.frame.DataFrame'>\n",
      "RangeIndex: 50 entries, 0 to 49\n",
      "Data columns (total 5 columns):\n",
      " #   Column    Non-Null Count  Dtype  \n",
      "---  ------    --------------  -----  \n",
      " 0   City      50 non-null     object \n",
      " 1   Murder    50 non-null     float64\n",
      " 2   Assault   50 non-null     int64  \n",
      " 3   UrbanPop  50 non-null     int64  \n",
      " 4   Rape      50 non-null     float64\n",
      "dtypes: float64(2), int64(2), object(1)\n",
      "memory usage: 2.1+ KB\n"
     ]
    }
   ],
   "source": [
    "# Examine types\n",
    "usArrests_df.info()"
   ]
  },
  {
   "cell_type": "markdown",
   "metadata": {},
   "source": [
    "To visualise the distribution of the observations for each feature, we plot a histogram using Pandas's .hist() function:"
   ]
  },
  {
   "cell_type": "code",
   "execution_count": 15,
   "metadata": {},
   "outputs": [
    {
     "data": {
      "image/png": "[encoded data removed]",
      "text/plain": [
       "<Figure size 1080x720 with 4 Axes>"
      ]
     },
     "metadata": {
      "needs_background": "light"
     },
     "output_type": "display_data"
    }
   ],
   "source": [
    "# Plot histograms\n",
    "histograms = usArrests_df.hist(color='black', grid=False, figsize=(15, 10)) #This can also be done for each column individually by calling hist on that column\n",
    "plt.tight_layout()\n",
    "plt.show()\n"
   ]
  },
  {
   "cell_type": "markdown",
   "metadata": {},
   "source": [
    "We can compile the tabular information we have so far into a single dataframe:"
   ]
  },
  {
   "cell_type": "code",
   "execution_count": 16,
   "metadata": {},
   "outputs": [
    {
     "data": {
      "text/html": [
       "<div>\n",
       "<style scoped>\n",
       "    .dataframe tbody tr th:only-of-type {\n",
       "        vertical-align: middle;\n",
       "    }\n",
       "\n",
       "    .dataframe tbody tr th {\n",
       "        vertical-align: top;\n",
       "    }\n",
       "\n",
       "    .dataframe thead th {\n",
       "        text-align: right;\n",
       "    }\n",
       "</style>\n",
       "<table border=\"1\" class=\"dataframe\">\n",
       "  <thead>\n",
       "    <tr style=\"text-align: right;\">\n",
       "      <th></th>\n",
       "      <th>missing</th>\n",
       "      <th>mean</th>\n",
       "      <th>std</th>\n",
       "      <th>min</th>\n",
       "      <th>max</th>\n",
       "    </tr>\n",
       "  </thead>\n",
       "  <tbody>\n",
       "    <tr>\n",
       "      <th>City</th>\n",
       "      <td>0</td>\n",
       "      <td>NaN</td>\n",
       "      <td>NaN</td>\n",
       "      <td>NaN</td>\n",
       "      <td>NaN</td>\n",
       "    </tr>\n",
       "    <tr>\n",
       "      <th>Murder</th>\n",
       "      <td>0</td>\n",
       "      <td>7.79</td>\n",
       "      <td>4.36</td>\n",
       "      <td>0.80</td>\n",
       "      <td>17.40</td>\n",
       "    </tr>\n",
       "    <tr>\n",
       "      <th>Assault</th>\n",
       "      <td>0</td>\n",
       "      <td>170.76</td>\n",
       "      <td>83.34</td>\n",
       "      <td>45.00</td>\n",
       "      <td>337.00</td>\n",
       "    </tr>\n",
       "    <tr>\n",
       "      <th>UrbanPop</th>\n",
       "      <td>0</td>\n",
       "      <td>65.54</td>\n",
       "      <td>14.47</td>\n",
       "      <td>32.00</td>\n",
       "      <td>91.00</td>\n",
       "    </tr>\n",
       "    <tr>\n",
       "      <th>Rape</th>\n",
       "      <td>0</td>\n",
       "      <td>21.23</td>\n",
       "      <td>9.37</td>\n",
       "      <td>7.30</td>\n",
       "      <td>46.00</td>\n",
       "    </tr>\n",
       "  </tbody>\n",
       "</table>\n",
       "</div>"
      ],
      "text/plain": [
       "          missing   mean   std   min    max\n",
       "City            0    NaN   NaN   NaN    NaN\n",
       "Murder          0   7.79  4.36  0.80  17.40\n",
       "Assault         0 170.76 83.34 45.00 337.00\n",
       "UrbanPop        0  65.54 14.47 32.00  91.00\n",
       "Rape            0  21.23  9.37  7.30  46.00"
      ]
     },
     "execution_count": 16,
     "metadata": {},
     "output_type": "execute_result"
    }
   ],
   "source": [
    "# Create summary table\n",
    "frames = [relevant_missing,selected_stats]\n",
    "summary = pd.concat(frames, axis=1)\n",
    "summary.rename(columns = {0:\"missing\"}, inplace = True)\n",
    "summary.to_csv('summary.csv', index=True) \n",
    "summary"
   ]
  },
  {
   "cell_type": "markdown",
   "metadata": {},
   "source": [
    "The provided results show the summary statistics for four variables: Murder, Assault, UrbanPop, and Rape. Here's an explanation of each column in the table:\n",
    "\n",
    "1. missing: This column indicates the number of missing values for each variable. In this case, all variables have 0 missing values, meaning there are no missing data points for any of the variables.\n",
    "\n",
    "\n",
    "2. mean: This column displays the mean (average) value for each variable. It represents the central tendency of the data distribution. For example, the average Murder rate across the cities is 7.79, the average Assault rate is 170.76, the average UrbanPop is 65.54, and the average Rape rate is 21.23.\n",
    "\n",
    "\n",
    "3. std: This column represents the standard deviation, which measures the variability or dispersion of the data around the mean. It gives an indication of how spread out the values are. For instance, the standard deviation of Murder is 4.36, Assault is 83.34, UrbanPop is 14.47, and Rape is 9.37.\n",
    "\n",
    "\n",
    "4. min: This column displays the minimum value observed for each variable. It represents the smallest value in the dataset. For example, the minimum Murder rate among the cities is 0.80, the minimum Assault rate is 45.00, the minimum UrbanPop is 32.00, and the minimum Rape rate is 7.30.\n",
    "\n",
    "\n",
    "5. max: This column represents the maximum value observed for each variable. It represents the largest value in the dataset. For instance, the maximum Murder rate among the cities is 17.40, the maximum Assault rate is 337.00, the maximum UrbanPop is 91.00, and the maximum Rape rate is 46.00.\n",
    "\n",
    "\n",
    "Overall, these summary statistics provide a general understanding of the distribution and range of values for each variable in the dataset. It helps in identifying the central tendency, variability, and extreme values within the dataset. However, without the context of the data or specific analysis goals, it's difficult to evaluate whether these statistics are desirable or meaningful. The interpretation and evaluation of these results depend on the specific domain or analytical objectives."
   ]
  },
  {
   "cell_type": "markdown",
   "metadata": {},
   "source": [
    "## Correlation Analysis"
   ]
  },
  {
   "cell_type": "markdown",
   "metadata": {},
   "source": [
    "Compute correlations between the different columns."
   ]
  },
  {
   "cell_type": "code",
   "execution_count": 17,
   "metadata": {},
   "outputs": [],
   "source": [
    "cities = usArrests_df.index\n",
    "corr_df = usArrests_df.drop([\"City\"], axis=1).corr()\n",
    "labels = corr_df.columns\n",
    "\n",
    "correlations = corr_df.corr()"
   ]
  },
  {
   "cell_type": "code",
   "execution_count": 18,
   "metadata": {},
   "outputs": [
    {
     "name": "stderr",
     "output_type": "stream",
     "text": [
      "C:\\Users\\1arli\\Anaconda3\\lib\\site-packages\\ipykernel_launcher.py:3: DeprecationWarning: `np.bool` is a deprecated alias for the builtin `bool`. To silence this warning, use `bool` by itself. Doing this will not modify any behavior and is safe. If you specifically wanted the numpy scalar type, use `np.bool_` here.\n",
      "Deprecated in NumPy 1.20; for more details and guidance: https://numpy.org/devdocs/release/1.20.0-notes.html#deprecations\n",
      "  This is separate from the ipykernel package so we can avoid doing imports until\n"
     ]
    },
    {
     "data": {
      "text/plain": [
       "<matplotlib.axes._subplots.AxesSubplot at 0x24bf0d7f148>"
      ]
     },
     "execution_count": 18,
     "metadata": {},
     "output_type": "execute_result"
    },
    {
     "data": {
      "image/png": "[encoded data removed]",
      "text/plain": [
       "<Figure size 432x288 with 2 Axes>"
      ]
     },
     "metadata": {
      "needs_background": "light"
     },
     "output_type": "display_data"
    }
   ],
   "source": [
    "import seaborn as sns\n",
    "\n",
    "mask_ut = np.triu(np.ones(corr_df.shape)).astype(np.bool)\n",
    "sns.heatmap(corr_df, mask=mask_ut, cmap=\"coolwarm\")"
   ]
  },
  {
   "cell_type": "code",
   "execution_count": 19,
   "metadata": {},
   "outputs": [
    {
     "data": {
      "image/png": "[encoded data removed]",
      "text/plain": [
       "<Figure size 576x432 with 2 Axes>"
      ]
     },
     "metadata": {
      "needs_background": "light"
     },
     "output_type": "display_data"
    }
   ],
   "source": [
    "# Calculate the correlation matrix\n",
    "correlation_matrix = usArrests_df.corr()\n",
    "\n",
    "# Plot the correlation heatmap\n",
    "plt.figure(figsize=(8, 6))\n",
    "sns.heatmap(correlation_matrix, annot=True, cmap='coolwarm')\n",
    "plt.title('Correlation Heatmap')\n",
    "plt.show()"
   ]
  },
  {
   "cell_type": "markdown",
   "metadata": {},
   "source": [
    "The code provided calculates the correlation matrix between the variables in the usArrests_df DataFrame and plots it as a heatmap. The correlation values represent the strength and direction of the linear relationship between pairs of variables. Here's an explanation and evaluation of the results:\n",
    "\n",
    "* (Rape, Murder) = 0.56: This correlation coefficient indicates a moderately positive relationship between Rape and Murder rates. A value of 0.56 suggests that as the Rape rate increases, there tends to be an increase in the Murder rate as well.\n",
    "\n",
    "\n",
    "* (Rape, Assault) = 0.67: This correlation coefficient indicates a moderately positive relationship between Rape and Assault rates. A value of 0.67 suggests that as the Rape rate increases, there tends to be an increase in the Assault rate as well.\n",
    "\n",
    "\n",
    "* (Rape, UrbanPop) = 0.41: This correlation coefficient indicates a moderate positive relationship between Rape and UrbanPop (Urban Population) variables. A value of 0.41 suggests that there is some tendency for higher Rape rates to be associated with higher UrbanPop values.\n",
    "\n",
    "\n",
    "* (UrbanPop, Murder) = 0.07: This correlation coefficient indicates a weak positive relationship between UrbanPop and Murder rates. A value of 0.07 suggests that there is little to no linear relationship between these two variables.\n",
    "\n",
    "\n",
    "* (Murder, Assault) = 0.8: This correlation coefficient indicates a strong positive relationship between Murder and Assault rates. A value of 0.8 suggests that as the Murder rate increases, there tends to be a significant increase in the Assault rate as well.\n",
    "\n",
    "\n",
    "* (Assault, UrbanPop) = 0.21: This correlation coefficient indicates a weak positive relationship between Assault and UrbanPop variables. A value of 0.21 suggests that there is some tendency for higher Assault rates to be associated with higher UrbanPop values, but the relationship is not very strong.\n",
    "\n",
    "\n",
    "Evaluating these correlation results, it is important to note that correlation does not imply causation. While the correlation coefficients provide insights into the linear relationship between variables, they do not establish the direction of causality or explain the underlying factors influencing these relationships. Further analysis and domain-specific knowledge are necessary to gain a deeper understanding of the variables and their connections.\n",
    "\n",
    "\n",
    "\n",
    "\n"
   ]
  },
  {
   "cell_type": "markdown",
   "metadata": {},
   "source": [
    "## PCA"
   ]
  },
  {
   "cell_type": "markdown",
   "metadata": {},
   "source": [
    "Principal Components Analysis (PCA) is a method for finding the underlying variables (i.e. principal components) that best differentiate the observations by determining the directions along which your data points are most spread out."
   ]
  },
  {
   "cell_type": "code",
   "execution_count": 20,
   "metadata": {},
   "outputs": [
    {
     "data": {
      "text/html": [
       "<div>\n",
       "<style scoped>\n",
       "    .dataframe tbody tr th:only-of-type {\n",
       "        vertical-align: middle;\n",
       "    }\n",
       "\n",
       "    .dataframe tbody tr th {\n",
       "        vertical-align: top;\n",
       "    }\n",
       "\n",
       "    .dataframe thead th {\n",
       "        text-align: right;\n",
       "    }\n",
       "</style>\n",
       "<table border=\"1\" class=\"dataframe\">\n",
       "  <thead>\n",
       "    <tr style=\"text-align: right;\">\n",
       "      <th></th>\n",
       "      <th>0</th>\n",
       "      <th>1</th>\n",
       "      <th>2</th>\n",
       "      <th>3</th>\n",
       "    </tr>\n",
       "  </thead>\n",
       "  <tbody>\n",
       "    <tr>\n",
       "      <th>0</th>\n",
       "      <td>64.80</td>\n",
       "      <td>11.45</td>\n",
       "      <td>-2.49</td>\n",
       "      <td>2.41</td>\n",
       "    </tr>\n",
       "    <tr>\n",
       "      <th>1</th>\n",
       "      <td>92.83</td>\n",
       "      <td>17.98</td>\n",
       "      <td>20.13</td>\n",
       "      <td>-4.09</td>\n",
       "    </tr>\n",
       "    <tr>\n",
       "      <th>2</th>\n",
       "      <td>124.07</td>\n",
       "      <td>-8.83</td>\n",
       "      <td>-1.69</td>\n",
       "      <td>-4.35</td>\n",
       "    </tr>\n",
       "    <tr>\n",
       "      <th>3</th>\n",
       "      <td>18.34</td>\n",
       "      <td>16.70</td>\n",
       "      <td>0.21</td>\n",
       "      <td>-0.52</td>\n",
       "    </tr>\n",
       "    <tr>\n",
       "      <th>4</th>\n",
       "      <td>107.42</td>\n",
       "      <td>-22.52</td>\n",
       "      <td>6.75</td>\n",
       "      <td>-2.81</td>\n",
       "    </tr>\n",
       "  </tbody>\n",
       "</table>\n",
       "</div>"
      ],
      "text/plain": [
       "       0      1     2     3\n",
       "0  64.80  11.45 -2.49  2.41\n",
       "1  92.83  17.98 20.13 -4.09\n",
       "2 124.07  -8.83 -1.69 -4.35\n",
       "3  18.34  16.70  0.21 -0.52\n",
       "4 107.42 -22.52  6.75 -2.81"
      ]
     },
     "execution_count": 20,
     "metadata": {},
     "output_type": "execute_result"
    }
   ],
   "source": [
    "from sklearn.decomposition import PCA #run again if it does not converge the first time\n",
    "\n",
    "np.set_printoptions(precision=2)\n",
    "\n",
    "X = usArrests_df.drop([\"City\"],axis=1).values.squeeze()\n",
    "\n",
    "pca = PCA()\n",
    "\n",
    "X_trans = pca.fit_transform(X)\n",
    "\n",
    "df_pca = pd.DataFrame(X_trans)\n",
    "df_pca.head()"
   ]
  },
  {
   "cell_type": "code",
   "execution_count": 21,
   "metadata": {},
   "outputs": [
    {
     "name": "stdout",
     "output_type": "stream",
     "text": [
      "Standard deviation: [83.73 14.21  6.49  2.48]\n"
     ]
    }
   ],
   "source": [
    "std = df_pca.describe().transpose()[\"std\"]\n",
    "print(f\"Standard deviation: {std.values}\")"
   ]
  },
  {
   "cell_type": "code",
   "execution_count": 22,
   "metadata": {},
   "outputs": [
    {
     "name": "stdout",
     "output_type": "stream",
     "text": [
      "Proportion of Variance Explained: [9.66e-01 2.78e-02 5.80e-03 8.49e-04]\n"
     ]
    }
   ],
   "source": [
    "print(f\"Proportion of Variance Explained: {pca.explained_variance_ratio_}\")"
   ]
  },
  {
   "cell_type": "code",
   "execution_count": 23,
   "metadata": {},
   "outputs": [
    {
     "name": "stdout",
     "output_type": "stream",
     "text": [
      "Cumulative Proportion: [7011.11 7213.11 7255.22 7261.38]\n"
     ]
    }
   ],
   "source": [
    "print(f\"Cumulative Proportion: {np.cumsum(pca.explained_variance_)}\")"
   ]
  },
  {
   "cell_type": "code",
   "execution_count": 27,
   "metadata": {},
   "outputs": [],
   "source": [
    "def biplot(score,coeff,labels=None,points=None):\n",
    "    xs = score[:,0]\n",
    "    ys = score[:,1]\n",
    "    n = coeff.shape[0]\n",
    "    scalex = 1.0/(xs.max() - xs.min())\n",
    "    scaley = 1.0/(ys.max() - ys.min())\n",
    "\n",
    "    fig, ax = plt.subplots()    \n",
    "\n",
    "    ax.scatter(xs * scalex,ys * scaley,s=5)\n",
    "\n",
    "    for i in range(0,len(xs)):\n",
    "        txt = cities[i]\n",
    "        ax.annotate(txt, (xs[i]* scalex, ys[i]* scaley))\n",
    "\n",
    "    for i in range(n):\n",
    "        ax.arrow(0, 0, coeff[i,0], coeff[i,1],color = 'r',alpha = 0.5)\n",
    "        if labels is None:\n",
    "            ax.text(coeff[i,0]* 1.15, coeff[i,1] * 1.15, \"Var\"+str(i+1), color = 'green', ha = 'center', va = 'center')\n",
    "        else:\n",
    "            ax.text(coeff[i,0]* 1.15, coeff[i,1] * 1.15, labels[i], color = 'g', ha = 'center', va = 'center')\n",
    " \n",
    "    plt.xlabel(\"PC1\")\n",
    "    plt.ylabel(\"PC2\")\n",
    "    plt.grid()\n",
    "\n",
    "    # Adapted from: https://ostwalprasad.github.io/machine-learning/PCA-using-python.html"
   ]
  },
  {
   "cell_type": "code",
   "execution_count": 28,
   "metadata": {},
   "outputs": [
    {
     "data": {
      "image/png": "[encoded data removed]",
      "text/plain": [
       "<Figure size 432x288 with 1 Axes>"
      ]
     },
     "metadata": {
      "needs_background": "light"
     },
     "output_type": "display_data"
    }
   ],
   "source": [
    "biplot(X_trans[:,0:2],np.transpose(pca.components_[0:2, :]),list(labels),list(cities))\n",
    "plt.show()"
   ]
  },
  {
   "cell_type": "markdown",
   "metadata": {},
   "source": [
    "Here's an explanation and evaluation of the revised results:\n",
    "\n",
    "* Murder: If the standardized Murder variable is close to 0 on both PC1 and PC2, it suggests that Murder does not contribute significantly to the variance explained by either of these principal components. It implies that the variance in Murder is not well captured by the linear combinations of the other variables or that Murder is not strongly correlated with the other variables.\n",
    "\n",
    "\n",
    "* Rape: With a loading of around -0.2 on PC2 and around 0.1 on PC1, the standardized Rape variable has a modest negative association with PC2 and a relatively weaker positive association with PC1. It suggests that Rape contributes somewhat to the variance explained by PC2 but has a less significant impact on PC1.\n",
    "\n",
    "\n",
    "* Assault: If the standardized Assault variable is around 0.9 on PC1 and around 0.09 on PC2, it indicates that Assault has a strong positive association with PC1 and a relatively weaker positive association with PC2. This suggests that Assault plays a substantial role in explaining the variance captured by PC1 and has a minor contribution to PC2.\n",
    "\n",
    "\n",
    "* UrbanPop: With a loading of around -0.9 on PC2 and around 0.08 on PC1, the standardized UrbanPop variable exhibits a strong negative association with PC2 and a weaker positive association with PC1. This indicates that UrbanPop contributes significantly to the variance explained by PC2 and has a lesser impact on PC1.\n",
    "\n",
    "\n",
    "These results provide insights into how the standardized variables contribute to the principal components and their ability to explain the variance in the dataset. However, it's important to note that interpretation may vary depending on the specific goals and context of the analysis. Additionally, the specific values of the loadings may also depend on the particular implementation and scaling choices made during the analysis. A comprehensive evaluation would require considering the explained variance ratios and potentially conducting further analyses to interpret the relationships and patterns in the data."
   ]
  },
  {
   "cell_type": "code",
   "execution_count": 30,
   "metadata": {},
   "outputs": [
    {
     "data": {
      "text/html": [
       "<div>\n",
       "<style scoped>\n",
       "    .dataframe tbody tr th:only-of-type {\n",
       "        vertical-align: middle;\n",
       "    }\n",
       "\n",
       "    .dataframe tbody tr th {\n",
       "        vertical-align: top;\n",
       "    }\n",
       "\n",
       "    .dataframe thead th {\n",
       "        text-align: right;\n",
       "    }\n",
       "</style>\n",
       "<table border=\"1\" class=\"dataframe\">\n",
       "  <thead>\n",
       "    <tr style=\"text-align: right;\">\n",
       "      <th></th>\n",
       "      <th>Features</th>\n",
       "      <th>PC1 Importance</th>\n",
       "      <th>PC2 Importance</th>\n",
       "    </tr>\n",
       "  </thead>\n",
       "  <tbody>\n",
       "    <tr>\n",
       "      <th>0</th>\n",
       "      <td>Murder</td>\n",
       "      <td>0.042</td>\n",
       "      <td>0.045</td>\n",
       "    </tr>\n",
       "    <tr>\n",
       "      <th>1</th>\n",
       "      <td>Assault</td>\n",
       "      <td>0.995</td>\n",
       "      <td>0.059</td>\n",
       "    </tr>\n",
       "    <tr>\n",
       "      <th>2</th>\n",
       "      <td>UrbanPop</td>\n",
       "      <td>0.046</td>\n",
       "      <td>0.977</td>\n",
       "    </tr>\n",
       "    <tr>\n",
       "      <th>3</th>\n",
       "      <td>Rape</td>\n",
       "      <td>0.075</td>\n",
       "      <td>0.201</td>\n",
       "    </tr>\n",
       "  </tbody>\n",
       "</table>\n",
       "</div>"
      ],
      "text/plain": [
       "   Features  PC1 Importance  PC2 Importance\n",
       "0    Murder           0.042           0.045\n",
       "1   Assault           0.995           0.059\n",
       "2  UrbanPop           0.046           0.977\n",
       "3      Rape           0.075           0.201"
      ]
     },
     "execution_count": 30,
     "metadata": {},
     "output_type": "execute_result"
    }
   ],
   "source": [
    "# Feature importance\n",
    "pd.set_option('display.float_format', lambda x: '%.3f' % x) #change precision to see more decimal places\n",
    "\n",
    "pc1 = abs( pca.components_[0] ) #components x features - access at index 0 to get the first component\n",
    "pc2 = abs( pca.components_[1] )\n",
    "\n",
    "feat_df = pd.DataFrame()\n",
    "feat_df[\"Features\"] = list(labels)\n",
    "feat_df[\"PC1 Importance\"] = pc1\n",
    "feat_df[\"PC2 Importance\"] = pc2\n",
    "feat_df"
   ]
  },
  {
   "cell_type": "markdown",
   "metadata": {},
   "source": [
    "The table shows the feature importance for each variable in relation to the first principal component (PC1) and the second principal component (PC2).\n",
    "\n",
    "Murder: The PC1 importance value of 0.042 suggests that the Murder variable has a relatively low importance in explaining the variance captured by PC1. Similarly, the PC2 importance value of 0.045 indicates a relatively low importance in explaining the variance captured by PC2.\n",
    "\n",
    "Assault: The PC1 importance value of 0.995 suggests that the Assault variable has a high importance in explaining the variance captured by PC1. It indicates that Assault plays a significant role in determining the patterns and variability captured by PC1. The PC2 importance value of 0.059 suggests a lower importance of Assault in explaining the variance captured by PC2.\n",
    "\n",
    "UrbanPop: The PC1 importance value of 0.046 suggests a relatively low importance of the UrbanPop variable in explaining the variance captured by PC1. In contrast, the PC2 importance value of 0.977 indicates a high importance of UrbanPop in explaining the variance captured by PC2. UrbanPop is a crucial determinant of the patterns and variability captured by PC2.\n",
    "\n",
    "Rape: The PC1 importance value of 0.075 suggests a moderate importance of the Rape variable in explaining the variance captured by PC1. The PC2 importance value of 0.201 indicates a relatively higher importance of Rape in explaining the variance captured by PC2.\n",
    "\n",
    "These feature importance values provide insights into the contribution of each variable to the principal components. A higher importance value suggests that the variable has a stronger influence on the patterns and variability captured by the corresponding principal component. Conversely, a lower importance value indicates a relatively weaker influence.\n",
    "\n",
    "It's important to note that the interpretation of feature importance in PCA is relative to the principal components and the specific context of the analysis. The importance values help identify the variables that contribute most to each principal component and can guide further analysis or decision-making processes. However, it's recommended to consider the overall explained variance ratios, interpretability of the components, and the specific goals of the analysis to draw meaningful conclusions from these feature importance results.\n"
   ]
  },
  {
   "cell_type": "code",
   "execution_count": 31,
   "metadata": {},
   "outputs": [
    {
     "data": {
      "text/html": [
       "<div>\n",
       "<style scoped>\n",
       "    .dataframe tbody tr th:only-of-type {\n",
       "        vertical-align: middle;\n",
       "    }\n",
       "\n",
       "    .dataframe tbody tr th {\n",
       "        vertical-align: top;\n",
       "    }\n",
       "\n",
       "    .dataframe thead th {\n",
       "        text-align: right;\n",
       "    }\n",
       "</style>\n",
       "<table border=\"1\" class=\"dataframe\">\n",
       "  <thead>\n",
       "    <tr style=\"text-align: right;\">\n",
       "      <th></th>\n",
       "      <th>0</th>\n",
       "      <th>1</th>\n",
       "      <th>2</th>\n",
       "      <th>3</th>\n",
       "    </tr>\n",
       "  </thead>\n",
       "  <tbody>\n",
       "    <tr>\n",
       "      <th>0</th>\n",
       "      <td>0.986</td>\n",
       "      <td>1.133</td>\n",
       "      <td>-0.444</td>\n",
       "      <td>0.156</td>\n",
       "    </tr>\n",
       "    <tr>\n",
       "      <th>1</th>\n",
       "      <td>1.950</td>\n",
       "      <td>1.073</td>\n",
       "      <td>2.040</td>\n",
       "      <td>-0.439</td>\n",
       "    </tr>\n",
       "    <tr>\n",
       "      <th>2</th>\n",
       "      <td>1.763</td>\n",
       "      <td>-0.746</td>\n",
       "      <td>0.055</td>\n",
       "      <td>-0.835</td>\n",
       "    </tr>\n",
       "    <tr>\n",
       "      <th>3</th>\n",
       "      <td>-0.141</td>\n",
       "      <td>1.120</td>\n",
       "      <td>0.115</td>\n",
       "      <td>-0.183</td>\n",
       "    </tr>\n",
       "    <tr>\n",
       "      <th>4</th>\n",
       "      <td>2.524</td>\n",
       "      <td>-1.543</td>\n",
       "      <td>0.599</td>\n",
       "      <td>-0.342</td>\n",
       "    </tr>\n",
       "  </tbody>\n",
       "</table>\n",
       "</div>"
      ],
      "text/plain": [
       "       0      1      2      3\n",
       "0  0.986  1.133 -0.444  0.156\n",
       "1  1.950  1.073  2.040 -0.439\n",
       "2  1.763 -0.746  0.055 -0.835\n",
       "3 -0.141  1.120  0.115 -0.183\n",
       "4  2.524 -1.543  0.599 -0.342"
      ]
     },
     "execution_count": 31,
     "metadata": {},
     "output_type": "execute_result"
    }
   ],
   "source": [
    "from sklearn.preprocessing import StandardScaler\n",
    "X_std = StandardScaler().fit_transform(X)\n",
    "\n",
    "std_pca = PCA()\n",
    "X_std_trans = std_pca.fit_transform(X_std)\n",
    "\n",
    "df_std_pca = pd.DataFrame(X_std_trans)\n",
    "df_std_pca.head()"
   ]
  },
  {
   "cell_type": "code",
   "execution_count": 32,
   "metadata": {},
   "outputs": [
    {
     "data": {
      "image/png": "[encoded data removed]",
      "text/plain": [
       "<Figure size 432x288 with 1 Axes>"
      ]
     },
     "metadata": {
      "needs_background": "light"
     },
     "output_type": "display_data"
    }
   ],
   "source": [
    "biplot(X_std_trans[:,0:2],np.transpose(std_pca.components_[0:2, :]),list(labels))\n",
    "plt.show()"
   ]
  },
  {
   "cell_type": "code",
   "execution_count": 33,
   "metadata": {},
   "outputs": [
    {
     "data": {
      "text/html": [
       "<div>\n",
       "<style scoped>\n",
       "    .dataframe tbody tr th:only-of-type {\n",
       "        vertical-align: middle;\n",
       "    }\n",
       "\n",
       "    .dataframe tbody tr th {\n",
       "        vertical-align: top;\n",
       "    }\n",
       "\n",
       "    .dataframe thead th {\n",
       "        text-align: right;\n",
       "    }\n",
       "</style>\n",
       "<table border=\"1\" class=\"dataframe\">\n",
       "  <thead>\n",
       "    <tr style=\"text-align: right;\">\n",
       "      <th></th>\n",
       "      <th>Features</th>\n",
       "      <th>PC1 Importance</th>\n",
       "      <th>PC2 Importance</th>\n",
       "    </tr>\n",
       "  </thead>\n",
       "  <tbody>\n",
       "    <tr>\n",
       "      <th>0</th>\n",
       "      <td>Murder</td>\n",
       "      <td>0.536</td>\n",
       "      <td>0.418</td>\n",
       "    </tr>\n",
       "    <tr>\n",
       "      <th>1</th>\n",
       "      <td>Assault</td>\n",
       "      <td>0.583</td>\n",
       "      <td>0.188</td>\n",
       "    </tr>\n",
       "    <tr>\n",
       "      <th>2</th>\n",
       "      <td>UrbanPop</td>\n",
       "      <td>0.278</td>\n",
       "      <td>0.873</td>\n",
       "    </tr>\n",
       "    <tr>\n",
       "      <th>3</th>\n",
       "      <td>Rape</td>\n",
       "      <td>0.543</td>\n",
       "      <td>0.167</td>\n",
       "    </tr>\n",
       "  </tbody>\n",
       "</table>\n",
       "</div>"
      ],
      "text/plain": [
       "   Features  PC1 Importance  PC2 Importance\n",
       "0    Murder           0.536           0.418\n",
       "1   Assault           0.583           0.188\n",
       "2  UrbanPop           0.278           0.873\n",
       "3      Rape           0.543           0.167"
      ]
     },
     "execution_count": 33,
     "metadata": {},
     "output_type": "execute_result"
    }
   ],
   "source": [
    "# Feature importance\n",
    "\n",
    "pc1 = abs( std_pca.components_[0] ) #components x features - access at index 0 to get the first component\n",
    "pc2 = abs( std_pca.components_[1] )\n",
    "\n",
    "feat_df = pd.DataFrame()\n",
    "feat_df[\"Features\"] = list(labels)\n",
    "feat_df[\"PC1 Importance\"] = pc1\n",
    "feat_df[\"PC2 Importance\"] = pc2\n",
    "feat_df"
   ]
  },
  {
   "cell_type": "code",
   "execution_count": 34,
   "metadata": {},
   "outputs": [
    {
     "data": {
      "text/plain": [
       "Text(0.5, 1.0, 'Cumulative Explained Variance')"
      ]
     },
     "execution_count": 34,
     "metadata": {},
     "output_type": "execute_result"
    },
    {
     "data": {
      "image/png": "[encoded data removed]",
      "text/plain": [
       "<Figure size 432x288 with 1 Axes>"
      ]
     },
     "metadata": {
      "needs_background": "light"
     },
     "output_type": "display_data"
    }
   ],
   "source": [
    "# Cumulative variance plot\n",
    "plt.ylabel('Explained variance')\n",
    "plt.xlabel('Components')\n",
    "plt.plot(range(1,len(std_pca.explained_variance_ratio_ )+1),\n",
    "         np.cumsum(std_pca.explained_variance_ratio_),\n",
    "         c='red')\n",
    "plt.title(\"Cumulative Explained Variance\")"
   ]
  },
  {
   "cell_type": "code",
   "execution_count": 35,
   "metadata": {},
   "outputs": [
    {
     "data": {
      "image/png": "[encoded data removed]",
      "text/plain": [
       "<Figure size 432x288 with 1 Axes>"
      ]
     },
     "metadata": {
      "needs_background": "light"
     },
     "output_type": "display_data"
    }
   ],
   "source": [
    "# Scree plot\n",
    "plt.plot(std_pca.explained_variance_ratio_)\n",
    "plt.xlabel('number of components')\n",
    "plt.ylabel('cumulative explained variance')\n",
    "plt.title(\"Scree plot\")\n",
    "plt.show()"
   ]
  },
  {
   "cell_type": "markdown",
   "metadata": {},
   "source": [
    "Two principal components explain more than 90% of the variance. As a result perform cluster analysis should be viable."
   ]
  },
  {
   "cell_type": "code",
   "execution_count": 37,
   "metadata": {},
   "outputs": [
    {
     "data": {
      "text/html": [
       "<div>\n",
       "<style scoped>\n",
       "    .dataframe tbody tr th:only-of-type {\n",
       "        vertical-align: middle;\n",
       "    }\n",
       "\n",
       "    .dataframe tbody tr th {\n",
       "        vertical-align: top;\n",
       "    }\n",
       "\n",
       "    .dataframe thead th {\n",
       "        text-align: right;\n",
       "    }\n",
       "</style>\n",
       "<table border=\"1\" class=\"dataframe\">\n",
       "  <thead>\n",
       "    <tr style=\"text-align: right;\">\n",
       "      <th></th>\n",
       "      <th>0</th>\n",
       "      <th>1</th>\n",
       "      <th>2</th>\n",
       "      <th>3</th>\n",
       "    </tr>\n",
       "  </thead>\n",
       "  <tbody>\n",
       "    <tr>\n",
       "      <th>0</th>\n",
       "      <td>0.986</td>\n",
       "      <td>1.133</td>\n",
       "      <td>-0.444</td>\n",
       "      <td>0.156</td>\n",
       "    </tr>\n",
       "    <tr>\n",
       "      <th>1</th>\n",
       "      <td>1.950</td>\n",
       "      <td>1.073</td>\n",
       "      <td>2.040</td>\n",
       "      <td>-0.439</td>\n",
       "    </tr>\n",
       "    <tr>\n",
       "      <th>2</th>\n",
       "      <td>1.763</td>\n",
       "      <td>-0.746</td>\n",
       "      <td>0.055</td>\n",
       "      <td>-0.835</td>\n",
       "    </tr>\n",
       "    <tr>\n",
       "      <th>3</th>\n",
       "      <td>-0.141</td>\n",
       "      <td>1.120</td>\n",
       "      <td>0.115</td>\n",
       "      <td>-0.183</td>\n",
       "    </tr>\n",
       "    <tr>\n",
       "      <th>4</th>\n",
       "      <td>2.524</td>\n",
       "      <td>-1.543</td>\n",
       "      <td>0.599</td>\n",
       "      <td>-0.342</td>\n",
       "    </tr>\n",
       "  </tbody>\n",
       "</table>\n",
       "</div>"
      ],
      "text/plain": [
       "       0      1      2      3\n",
       "0  0.986  1.133 -0.444  0.156\n",
       "1  1.950  1.073  2.040 -0.439\n",
       "2  1.763 -0.746  0.055 -0.835\n",
       "3 -0.141  1.120  0.115 -0.183\n",
       "4  2.524 -1.543  0.599 -0.342"
      ]
     },
     "execution_count": 37,
     "metadata": {},
     "output_type": "execute_result"
    }
   ],
   "source": [
    "pca_df = pd.DataFrame(X_std_trans[:,0:5], index = usArrests_df.index)\n",
    "pca_df.head()"
   ]
  },
  {
   "cell_type": "markdown",
   "metadata": {},
   "source": [
    "## Hierarchical clustering"
   ]
  },
  {
   "cell_type": "code",
   "execution_count": 38,
   "metadata": {},
   "outputs": [
    {
     "data": {
      "image/png": "[encoded data removed]",
      "text/plain": [
       "<Figure size 432x288 with 3 Axes>"
      ]
     },
     "metadata": {
      "needs_background": "light"
     },
     "output_type": "display_data"
    }
   ],
   "source": [
    "from scipy.cluster.hierarchy import dendrogram, linkage\n",
    "from sklearn.cluster import AgglomerativeClustering\n",
    "\n",
    "model = AgglomerativeClustering(distance_threshold=0, n_clusters=None)\n",
    "model = model.fit(pca_df)\n",
    "\n",
    "fig, (ax1, ax2, ax3) = plt.subplots(1, 3)\n",
    "fig.suptitle('Hierarchical Clustering Dendrogram')\n",
    "ax1.set_title(\"Single\")\n",
    "dendrogram(linkage(pca_df, method='single'), labels=pca_df.index, ax=ax1) #change method: eg. single, average, complete...\n",
    "ax2.set_title(\"Average\")\n",
    "dendrogram(linkage(pca_df, method='average'), labels=pca_df.index, ax=ax2)\n",
    "ax3.set_title(\"Complete\")\n",
    "dendrogram(linkage(pca_df, method='complete'), labels=pca_df.index, ax=ax3)\n",
    "plt.show()"
   ]
  },
  {
   "cell_type": "code",
   "execution_count": 39,
   "metadata": {},
   "outputs": [
    {
     "data": {
      "image/png": "[encoded data removed]",
      "text/plain": [
       "<Figure size 432x288 with 1 Axes>"
      ]
     },
     "metadata": {
      "needs_background": "light"
     },
     "output_type": "display_data"
    }
   ],
   "source": [
    "plt.title(\"Complete linkage\")\n",
    "dendrogram(linkage(pca_df, method='complete'), labels=pca_df.index)\n",
    "plt.show()"
   ]
  },
  {
   "cell_type": "markdown",
   "metadata": {},
   "source": [
    "### K-means clustering"
   ]
  },
  {
   "cell_type": "markdown",
   "metadata": {},
   "source": [
    "For our analysis, it seems that the shape of clusters is likely to be regular based on the PCA biplot. K will be set to 3. A visualisation of the clusters is shown in the figure below."
   ]
  },
  {
   "cell_type": "code",
   "execution_count": 41,
   "metadata": {},
   "outputs": [
    {
     "name": "stderr",
     "output_type": "stream",
     "text": [
      "No handles with labels found to put in legend.\n"
     ]
    },
    {
     "data": {
      "text/plain": [
       "<matplotlib.legend.Legend at 0x24bf39add08>"
      ]
     },
     "execution_count": 41,
     "metadata": {},
     "output_type": "execute_result"
    },
    {
     "data": {
      "image/png": "[encoded data removed]",
      "text/plain": [
       "<Figure size 432x288 with 1 Axes>"
      ]
     },
     "metadata": {
      "needs_background": "light"
     },
     "output_type": "display_data"
    }
   ],
   "source": [
    "from sklearn.cluster import KMeans\n",
    "\n",
    "# We extract the first two components\n",
    "x = X_std_trans[:,0]\n",
    "y = X_std_trans[:,1]\n",
    "\n",
    "# Fit k-means\n",
    "k=3\n",
    "kmeans = KMeans(n_clusters=k, init='k-means++', random_state=42)\n",
    "cluster_labels = kmeans.fit_predict(pca_df)\n",
    "cent = kmeans.cluster_centers_\n",
    "\n",
    "# Plot clusters\n",
    "fig, ax = plt.subplots()\n",
    "colours = 'rbgy'\n",
    "for i in range(0,k):\n",
    "    ax.scatter(x[cluster_labels == i],y[cluster_labels == i],c = colours[i]) \n",
    "\n",
    "for i in range(0,len(x)):\n",
    "        txt = cities[i]\n",
    "        ax.annotate(txt, (x[i], y[i]))\n",
    "ax.set_title(\"K-Means cluster plot\")\n",
    "ax.set_xlabel(\"Dim 2\")\n",
    "ax.set_ylabel(\"Dim 1\")\n",
    "ax.legend()"
   ]
  },
  {
   "cell_type": "markdown",
   "metadata": {},
   "source": [
    "the following observations can be made:\n",
    "\n",
    "* The graph displays three distinct clusters represented by different colors: green, red, and blue.\n",
    "\n",
    "\n",
    "* The green cluster is predominantly located on the left side below -1 on Dimension 2.\n",
    "\n",
    "\n",
    "* The red cluster is concentrated between -1 and 0 on Dimension 2, with some points below 0 on Dimension 1.\n",
    "\n",
    "\n",
    "* The blue cluster is located between 1 and 3 on Dimension 2.\n",
    "\n",
    "\n",
    "* These observations suggest that the K-means algorithm has successfully identified distinct clusters within the data based on the first two principal components. The separation of the clusters along the dimensions indicates that the clusters capture different patterns or groups within the dataset.\n",
    "\n",
    "\n",
    "It's important to note that further analysis and interpretation of the clusters would require considering domain knowledge, evaluating the cluster assignments against the original data or other relevant metrics, and understanding the context and objectives of the analysis. Additionally, it's worth considering the overall performance and stability of the clustering algorithm, such as assessing the within-cluster sum of squares or evaluating the silhouette scores, to ensure the robustness of the obtained clusters."
   ]
  },
  {
   "cell_type": "markdown",
   "metadata": {},
   "source": [
    "To assess the within-cluster sum of squares (WCSS), we can use the inertia_ attribute of the KMeans object. The inertia_ attribute returns the sum of squared distances of samples to their closest cluster center. "
   ]
  },
  {
   "cell_type": "code",
   "execution_count": 48,
   "metadata": {},
   "outputs": [
    {
     "name": "stdout",
     "output_type": "stream",
     "text": [
      "Within-Cluster Sum of Squares (WCSS): 80.08569526137275\n"
     ]
    }
   ],
   "source": [
    "kmeans = KMeans(n_clusters=k, init='k-means++', random_state=42)\n",
    "cluster_labels = kmeans.fit_predict(pca_df)\n",
    "wcss = kmeans.inertia_\n",
    "print(\"Within-Cluster Sum of Squares (WCSS):\", wcss)\n"
   ]
  },
  {
   "cell_type": "markdown",
   "metadata": {},
   "source": [
    "The within-cluster sum of squares (WCSS) is a metric that quantifies the compactness or tightness of the clusters in a K-means clustering algorithm. It is calculated as the sum of squared distances between each data point and its closest cluster center.\n",
    "\n",
    "In the given result, the WCSS value is reported as 80.08569526137275. This value represents the sum of squared distances for all the data points within their respective clusters.\n",
    "\n",
    "A lower value of WCSS indicates that the data points within each cluster are closer to their cluster center, suggesting better separation between the clusters. However, the absolute value of the WCSS alone is not sufficient to evaluate the quality of the clustering. It should be compared to other clustering solutions or evaluated in the context of the specific problem or domain.\n",
    "\n",
    "To further assess the clustering performance, it is advisable to compare the WCSS values across different numbers of clusters (k) or use other metrics such as silhouette score, Dunn index, or visual inspection of cluster separation. These additional evaluations can help determine the optimal number of clusters or assess the quality of the clustering solution."
   ]
  },
  {
   "cell_type": "markdown",
   "metadata": {},
   "source": [
    "#### To calculate the silhouette scores for the clusters obtained from the K-means algorithm, we can use the silhouette_score() function from the sklearn.metrics module. The silhouette score measures the quality and separation of the clusters based on the average distance between each sample and samples in its neighboring clusters."
   ]
  },
  {
   "cell_type": "code",
   "execution_count": 49,
   "metadata": {},
   "outputs": [
    {
     "name": "stdout",
     "output_type": "stream",
     "text": [
      "Silhouette Score: 0.30813622648945627\n"
     ]
    }
   ],
   "source": [
    "from sklearn.metrics import silhouette_score\n",
    "\n",
    "silhouette_avg = silhouette_score(pca_df, cluster_labels)\n",
    "print(\"Silhouette Score:\", silhouette_avg)\n"
   ]
  },
  {
   "cell_type": "markdown",
   "metadata": {},
   "source": [
    "The calculated silhouette score of 0.30813622648945627 suggests a moderate level of separation and coherence among the clusters obtained from the K-means algorithm. The silhouette score ranges from -1 to 1, where a higher score indicates better-defined and well-separated clusters.\n",
    "\n",
    "\n",
    "A score of 0.308 indicates that the clusters have some level of separation, but there may still be overlapping or ambiguous regions where samples from different clusters are closer to each other. It suggests that the clustering solution may not be highly distinct, but still exhibits some degree of clustering structure.\n",
    "\n",
    "\n",
    "It is important to note that the interpretation of the silhouette score depends on the specific dataset and the context of the problem. The evaluation should be considered in conjunction with other metrics, visual analysis, and domain knowledge. Additionally, it is beneficial to compare the silhouette scores across different numbers of clusters (k) to determine the optimal number of clusters for the given dataset.\n",
    "\n",
    "\n",
    "In summary, a silhouette score of 0.308 suggests a moderate level of separation and coherence among the clusters, indicating some clustering structure within the data. However, further analysis and consideration of other evaluation measures are recommended to gain a comprehensive understanding of the clustering performance."
   ]
  },
  {
   "cell_type": "code",
   "execution_count": 47,
   "metadata": {},
   "outputs": [
    {
     "name": "stdout",
     "output_type": "stream",
     "text": [
      "Group 0: ['Connecticut', 'Delaware', 'Hawaii', 'Indiana', 'Kansas', 'Massachusetts', 'New Jersey', 'Ohio', 'Oklahoma', 'Oregon', 'Pennsylvania', 'Rhode Island', 'Utah', 'Virginia', 'Washington', 'Wyoming']\n",
      "\n",
      "\n",
      "Group 1: ['Alabama', 'Alaska', 'Arizona', 'California', 'Colorado', 'Florida', 'Georgia', 'Illinois', 'Louisiana', 'Maryland', 'Michigan', 'Mississippi', 'Missouri', 'Nevada', 'New Mexico', 'New York', 'North Carolina', 'South Carolina', 'Tennessee', 'Texas']\n",
      "\n",
      "\n",
      "Group 2: ['Arkansas', 'Idaho', 'Iowa', 'Kentucky', 'Maine', 'Minnesota', 'Montana', 'Nebraska', 'New Hampshire', 'North Dakota', 'South Dakota', 'Vermont', 'West Virginia', 'Wisconsin']\n",
      "\n",
      "\n"
     ]
    }
   ],
   "source": [
    "# Groups - translate to readable names\n",
    "clusters = pd.DataFrame()\n",
    "\n",
    "group0_indices = np.argwhere(cluster_labels==0).transpose()[0]\n",
    "group1_indices = np.argwhere(cluster_labels==1).transpose()[0]\n",
    "group2_indices = np.argwhere(cluster_labels==2).transpose()[0]\n",
    "\n",
    "group0 = np.array(cities)[group0_indices]\n",
    "group1 = np.array(cities)[group1_indices]\n",
    "group2 = np.array(cities)[group2_indices]\n",
    "\n",
    "print(\"Group 0: {}\\n\\n\".format([usArrests_df.loc[x][\"City\"] for x in group0]))\n",
    "print(\"Group 1: {}\\n\\n\".format([usArrests_df.loc[x][\"City\"] for x in group1]))\n",
    "print(\"Group 2: {}\\n\\n\".format([usArrests_df.loc[x][\"City\"] for x in group2]))\n",
    "\n"
   ]
  },
  {
   "cell_type": "markdown",
   "metadata": {},
   "source": [
    "Based on the evaluation, we can observe the commonality within each cluster that has been found. Here's a breakdown of the clusters and their corresponding cities:\n",
    "\n",
    "Group 0: This cluster includes the following cities: Connecticut, Delaware, Hawaii, Indiana, Kansas, Massachusetts, New Jersey, Ohio, Oklahoma, Oregon, Pennsylvania, Rhode Island, Utah, Virginia, Washington, Wyoming.\n",
    "\n",
    "Group 1: This cluster includes the following cities: Alabama, Alaska, Arizona, California, Colorado, Florida, Georgia, Illinois, Louisiana, Maryland, Michigan, Mississippi, Missouri, Nevada, New Mexico, New York, North Carolina, South Carolina, Tennessee, Texas.\n",
    "\n",
    "Group 2: This cluster includes the following cities: Arkansas, Idaho, Iowa, Kentucky, Maine, Minnesota, Montana, Nebraska, New Hampshire, North Dakota, South Dakota, Vermont, West Virginia, Wisconsin.\n",
    "\n",
    "By examining the cities within each cluster, we can observe that the clustering algorithm has grouped states with similar characteristics together. While it is not explicitly mentioned what these characteristics represent, it is likely that the clustering is based on similarities in the variables used for clustering (Murder, Assault, UrbanPop, Rape).\n",
    "\n",
    "Group 0 consists of mostly northeastern and western states such as Connecticut, Massachusetts, New Jersey, Oregon, and Washington.\n",
    "\n",
    "Group 1 comprises a mix of states from various regions, including Alabama, California, Florida, New York, and Texas.\n",
    "\n",
    "Group 2 consists of states from the Midwest and northern regions, such as Iowa, Minnesota, Nebraska, and Wisconsin.\n",
    "\n",
    "These groupings provide a general indication of similarities in crime rates or urban population characteristics among the states within each cluster. However, further analysis and interpretation would be required to understand the specific patterns and underlying factors driving these clusters.\n",
    "\n",
    "It is important to note that the interpretation of the clusters should be done in the context of the data and the variables used for clustering. Domain knowledge and additional analysis can help provide more insights into the commonalities and differences among the clusters."
   ]
  },
  {
   "cell_type": "markdown",
   "metadata": {},
   "source": []
  }
 ],
 "metadata": {
  "kernelspec": {
   "display_name": "Python 3",
   "language": "python",
   "name": "python3"
  },
  "language_info": {
   "codemirror_mode": {
    "name": "ipython",
    "version": 3
   },
   "file_extension": ".py",
   "mimetype": "text/x-python",
   "name": "python",
   "nbconvert_exporter": "python",
   "pygments_lexer": "ipython3",
   "version": "3.7.4"
  }
 },
 "nbformat": 4,
 "nbformat_minor": 2
}
